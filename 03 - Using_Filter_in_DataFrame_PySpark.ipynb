{
  "nbformat": 4,
  "nbformat_minor": 0,
  "metadata": {
    "colab": {
      "provenance": [],
      "authorship_tag": "ABX9TyP4iFIi2cqgQSDI+zcoP/x9",
      "include_colab_link": true
    },
    "kernelspec": {
      "name": "python3",
      "display_name": "Python 3"
    },
    "language_info": {
      "name": "python"
    }
  },
  "cells": [
    {
      "cell_type": "markdown",
      "metadata": {
        "id": "view-in-github",
        "colab_type": "text"
      },
      "source": [
        "<a href=\"https://colab.research.google.com/github/JonathanACastro/PySpark_Tips/blob/main/03%20-%20Using_Filter_in_DataFrame_PySpark.ipynb\" target=\"_parent\"><img src=\"https://colab.research.google.com/assets/colab-badge.svg\" alt=\"Open In Colab\"/></a>"
      ]
    },
    {
      "cell_type": "markdown",
      "source": [
        "First we need install PySpark for using SparkSession below"
      ],
      "metadata": {
        "id": "zZAA9xZzWfGO"
      }
    },
    {
      "cell_type": "code",
      "execution_count": 12,
      "metadata": {
        "id": "7vO2-cRKFgQB",
        "colab": {
          "base_uri": "https://localhost:8080/"
        },
        "outputId": "46659895-dcd8-4987-8b2d-cf6e42b5eac1"
      },
      "outputs": [
        {
          "output_type": "stream",
          "name": "stdout",
          "text": [
            "Looking in indexes: https://pypi.org/simple, https://us-python.pkg.dev/colab-wheels/public/simple/\n",
            "Requirement already satisfied: pyspark in /usr/local/lib/python3.7/dist-packages (3.3.0)\n",
            "Requirement already satisfied: py4j==0.10.9.5 in /usr/local/lib/python3.7/dist-packages (from pyspark) (0.10.9.5)\n"
          ]
        }
      ],
      "source": [
        "!pip install pyspark\n",
        "import pyspark"
      ]
    },
    {
      "cell_type": "markdown",
      "source": [
        "Import class from pypsark.sql and typing"
      ],
      "metadata": {
        "id": "CFJipc2zWmwD"
      }
    },
    {
      "cell_type": "code",
      "source": [
        "from pyspark.sql import DataFrame, SparkSession\n",
        "from pyspark.sql.functions import col\n",
        "from typing import List"
      ],
      "metadata": {
        "id": "MqLiOw6nSsSY"
      },
      "execution_count": 19,
      "outputs": []
    },
    {
      "cell_type": "markdown",
      "source": [
        "Create Spark Session appName"
      ],
      "metadata": {
        "id": "nAWghpeVWvym"
      }
    },
    {
      "cell_type": "code",
      "source": [
        "spark= SparkSession.builder.appName(\"Filter_Example\").getOrCreate()"
      ],
      "metadata": {
        "id": "qFxrDIsjSu4u"
      },
      "execution_count": null,
      "outputs": []
    },
    {
      "cell_type": "code",
      "source": [
        "spark"
      ],
      "metadata": {
        "id": "hP-_7r8lF5YK",
        "outputId": "0c4553f4-f7b6-43b4-c05d-1ae36c2c87b6",
        "colab": {
          "base_uri": "https://localhost:8080/",
          "height": 219
        }
      },
      "execution_count": 13,
      "outputs": [
        {
          "output_type": "execute_result",
          "data": {
            "text/plain": [
              "<pyspark.sql.session.SparkSession at 0x7f4a16d5bf10>"
            ],
            "text/html": [
              "\n",
              "            <div>\n",
              "                <p><b>SparkSession - in-memory</b></p>\n",
              "                \n",
              "        <div>\n",
              "            <p><b>SparkContext</b></p>\n",
              "\n",
              "            <p><a href=\"http://b3e837539f7b:4040\">Spark UI</a></p>\n",
              "\n",
              "            <dl>\n",
              "              <dt>Version</dt>\n",
              "                <dd><code>v3.3.0</code></dd>\n",
              "              <dt>Master</dt>\n",
              "                <dd><code>local[*]</code></dd>\n",
              "              <dt>AppName</dt>\n",
              "                <dd><code>Filter_Example</code></dd>\n",
              "            </dl>\n",
              "        </div>\n",
              "        \n",
              "            </div>\n",
              "        "
            ]
          },
          "metadata": {},
          "execution_count": 13
        }
      ]
    },
    {
      "cell_type": "markdown",
      "source": [
        "Lets create a dataframe for we filter the data"
      ],
      "metadata": {
        "id": "vZf9jwc-W1_V"
      }
    },
    {
      "cell_type": "code",
      "source": [
        "columns = ['Name', 'LastName', 'City','Age']\n",
        "\n",
        "data = [('Nick', \"Johnson\", 'New York', '18'),\n",
        "        ('Ruan', \"Carmon\", 'Mexico City', '20'),\n",
        "        ('Felipe', \"Nogueira\", 'Lisbon', '35'),\n",
        "        ('Santiago', \"Pepe\", 'Santiago', '05'),\n",
        "        ('Jose', None, 'Brazil', '60')]\n",
        "df_input = spark.createDataFrame(data, columns)"
      ],
      "metadata": {
        "id": "yhBvm3GQF5yi"
      },
      "execution_count": 14,
      "outputs": []
    },
    {
      "cell_type": "code",
      "source": [
        "df_input.show()"
      ],
      "metadata": {
        "colab": {
          "base_uri": "https://localhost:8080/"
        },
        "id": "8ib3IJ1dRnB7",
        "outputId": "2551ca6d-4301-4cc5-8ebe-0eb42bd724bd"
      },
      "execution_count": 15,
      "outputs": [
        {
          "output_type": "stream",
          "name": "stdout",
          "text": [
            "+--------+--------+-----------+---+\n",
            "|    Name|LastName|       City|Age|\n",
            "+--------+--------+-----------+---+\n",
            "|    Nick| Johnson|   New York| 18|\n",
            "|    Ruan|  Carmon|Mexico City| 20|\n",
            "|  Felipe|Nogueira|     Lisbon| 35|\n",
            "|Santiago|    Pepe|   Santiago| 05|\n",
            "|    Jose|    null|     Brazil| 60|\n",
            "+--------+--------+-----------+---+\n",
            "\n"
          ]
        }
      ]
    },
    {
      "cell_type": "markdown",
      "source": [
        "Using Filter() and col()"
      ],
      "metadata": {
        "id": "4JnZvg82W6II"
      }
    },
    {
      "cell_type": "code",
      "source": [
        "var_name = 'Felipe'\n",
        "\n",
        "df_input.filter(col('Name')==var_name).show()"
      ],
      "metadata": {
        "colab": {
          "base_uri": "https://localhost:8080/"
        },
        "id": "mkInrdj7Ru6Y",
        "outputId": "89d420a5-9f74-4d2b-df68-b4781e8b516c"
      },
      "execution_count": 22,
      "outputs": [
        {
          "output_type": "stream",
          "name": "stdout",
          "text": [
            "+------+--------+------+---+\n",
            "|  Name|LastName|  City|Age|\n",
            "+------+--------+------+---+\n",
            "|Felipe|Nogueira|Lisbon| 35|\n",
            "+------+--------+------+---+\n",
            "\n"
          ]
        }
      ]
    },
    {
      "cell_type": "code",
      "source": [
        "# using just filter()\n",
        "df_input.filter('Name == \"Jose\"').show()"
      ],
      "metadata": {
        "colab": {
          "base_uri": "https://localhost:8080/"
        },
        "id": "vyMFehGISFYv",
        "outputId": "21ae00ac-d2d4-45fe-9574-e90dd4edd2f6"
      },
      "execution_count": 25,
      "outputs": [
        {
          "output_type": "stream",
          "name": "stdout",
          "text": [
            "+----+--------+------+---+\n",
            "|Name|LastName|  City|Age|\n",
            "+----+--------+------+---+\n",
            "|Jose|    null|Brazil| 60|\n",
            "+----+--------+------+---+\n",
            "\n"
          ]
        }
      ]
    },
    {
      "cell_type": "markdown",
      "source": [
        "If you have a list for filter you could use .isin()"
      ],
      "metadata": {
        "id": "cB7JQCgSXo1k"
      }
    },
    {
      "cell_type": "code",
      "source": [
        "df_input.filter(col('Name').isin('Ruan', 'Nick')).show()"
      ],
      "metadata": {
        "colab": {
          "base_uri": "https://localhost:8080/"
        },
        "id": "NGEQXLOoXW1C",
        "outputId": "0382f872-309c-4b15-a678-f192aa3a4120"
      },
      "execution_count": 26,
      "outputs": [
        {
          "output_type": "stream",
          "name": "stdout",
          "text": [
            "+----+--------+-----------+---+\n",
            "|Name|LastName|       City|Age|\n",
            "+----+--------+-----------+---+\n",
            "|Nick| Johnson|   New York| 18|\n",
            "|Ruan|  Carmon|Mexico City| 20|\n",
            "+----+--------+-----------+---+\n",
            "\n"
          ]
        }
      ]
    }
  ]
}