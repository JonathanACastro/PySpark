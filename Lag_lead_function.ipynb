{
  "nbformat": 4,
  "nbformat_minor": 0,
  "metadata": {
    "colab": {
      "provenance": [],
      "collapsed_sections": [],
      "authorship_tag": "ABX9TyOkrwyL8PnYDWJvr+ANLook",
      "include_colab_link": true
    },
    "kernelspec": {
      "name": "python3",
      "display_name": "Python 3"
    },
    "language_info": {
      "name": "python"
    }
  },
  "cells": [
    {
      "cell_type": "markdown",
      "metadata": {
        "id": "view-in-github",
        "colab_type": "text"
      },
      "source": [
        "<a href=\"https://colab.research.google.com/github/JonathanACastro/PySpark/blob/main/Lag_lead_function.ipynb\" target=\"_parent\"><img src=\"https://colab.research.google.com/assets/colab-badge.svg\" alt=\"Open In Colab\"/></a>"
      ]
    },
    {
      "cell_type": "markdown",
      "source": [
        "# 1. Installing PySpark in Google Colab"
      ],
      "metadata": {
        "id": "AT1J_0zVBXio"
      }
    },
    {
      "cell_type": "code",
      "execution_count": 1,
      "metadata": {
        "colab": {
          "base_uri": "https://localhost:8080/",
          "height": 983
        },
        "id": "JqhwpuA_8N_S",
        "outputId": "209cfab2-aeb7-41be-a011-829429ff1942"
      },
      "outputs": [
        {
          "output_type": "stream",
          "name": "stdout",
          "text": [
            "\u001b[33m\r0% [Working]\u001b[0m\r            \rGet:1 https://cloud.r-project.org/bin/linux/ubuntu bionic-cran40/ InRelease [3,626 B]\n",
            "Ign:2 https://developer.download.nvidia.com/compute/machine-learning/repos/ubuntu1804/x86_64  InRelease\n",
            "Hit:3 https://developer.download.nvidia.com/compute/cuda/repos/ubuntu1804/x86_64  InRelease\n",
            "Hit:4 https://developer.download.nvidia.com/compute/machine-learning/repos/ubuntu1804/x86_64  Release\n",
            "Get:5 https://cloud.r-project.org/bin/linux/ubuntu bionic-cran40/ Packages [92.1 kB]\n",
            "Hit:7 http://archive.ubuntu.com/ubuntu bionic InRelease\n",
            "Get:8 http://archive.ubuntu.com/ubuntu bionic-updates InRelease [88.7 kB]\n",
            "Get:9 http://archive.ubuntu.com/ubuntu bionic-backports InRelease [74.6 kB]\n",
            "Get:10 http://archive.ubuntu.com/ubuntu bionic-updates/main amd64 Packages [3,422 kB]\n",
            "Get:11 http://archive.ubuntu.com/ubuntu bionic-updates/universe amd64 Packages [2,322 kB]\n",
            "Get:12 http://archive.ubuntu.com/ubuntu bionic-updates/restricted amd64 Packages [1,202 kB]\n",
            "Get:13 http://security.ubuntu.com/ubuntu bionic-security InRelease [88.7 kB]\n",
            "Get:14 http://security.ubuntu.com/ubuntu bionic-security/restricted amd64 Packages [1,161 kB]\n",
            "Get:15 http://security.ubuntu.com/ubuntu bionic-security/universe amd64 Packages [1,545 kB]\n",
            "Get:16 http://security.ubuntu.com/ubuntu bionic-security/main amd64 Packages [2,990 kB]\n",
            "Get:17 http://ppa.launchpad.net/c2d4u.team/c2d4u4.0+/ubuntu bionic InRelease [15.9 kB]\n",
            "Hit:18 http://ppa.launchpad.net/cran/libgit2/ubuntu bionic InRelease\n",
            "Hit:19 http://ppa.launchpad.net/deadsnakes/ppa/ubuntu bionic InRelease\n",
            "Hit:20 http://ppa.launchpad.net/graphics-drivers/ppa/ubuntu bionic InRelease\n",
            "Get:21 http://ppa.launchpad.net/c2d4u.team/c2d4u4.0+/ubuntu bionic/main Sources [2,108 kB]\n",
            "Get:22 http://ppa.launchpad.net/c2d4u.team/c2d4u4.0+/ubuntu bionic/main amd64 Packages [1,080 kB]\n",
            "Fetched 16.2 MB in 14s (1,180 kB/s)\n",
            "Reading package lists... Done\n",
            "Building dependency tree       \n",
            "Reading state information... Done\n",
            "41 packages can be upgraded. Run 'apt list --upgradable' to see them.\n",
            "tar: spark-3.2.1-bin-hadoop3.2.tgz: Cannot open: No such file or directory\n",
            "tar: Error is not recoverable: exiting now\n",
            "Looking in indexes: https://pypi.org/simple, https://us-python.pkg.dev/colab-wheels/public/simple/\n",
            "Collecting pyspark\n",
            "  Downloading pyspark-3.3.0.tar.gz (281.3 MB)\n",
            "\u001b[K     |████████████████████████████████| 281.3 MB 48 kB/s \n",
            "\u001b[?25hCollecting py4j==0.10.9.5\n",
            "  Downloading py4j-0.10.9.5-py2.py3-none-any.whl (199 kB)\n",
            "\u001b[K     |████████████████████████████████| 199 kB 44.0 MB/s \n",
            "\u001b[?25hBuilding wheels for collected packages: pyspark\n",
            "  Building wheel for pyspark (setup.py) ... \u001b[?25l\u001b[?25hdone\n",
            "  Created wheel for pyspark: filename=pyspark-3.3.0-py2.py3-none-any.whl size=281764026 sha256=6413fe046ccda683ef32d9edbc53c92dfaa84aa75e647873fcb829855b0fec55\n",
            "  Stored in directory: /root/.cache/pip/wheels/7a/8e/1b/f73a52650d2e5f337708d9f6a1750d451a7349a867f928b885\n",
            "Successfully built pyspark\n",
            "Installing collected packages: py4j, pyspark\n",
            "Successfully installed py4j-0.10.9.5 pyspark-3.3.0\n",
            "Looking in indexes: https://pypi.org/simple, https://us-python.pkg.dev/colab-wheels/public/simple/\n",
            "Requirement already satisfied: py4j in /usr/local/lib/python3.7/dist-packages (0.10.9.5)\n"
          ]
        },
        {
          "output_type": "execute_result",
          "data": {
            "text/plain": [
              "<pyspark.sql.session.SparkSession at 0x7f2f11137210>"
            ],
            "text/html": [
              "\n",
              "            <div>\n",
              "                <p><b>SparkSession - in-memory</b></p>\n",
              "                \n",
              "        <div>\n",
              "            <p><b>SparkContext</b></p>\n",
              "\n",
              "            <p><a href=\"http://5c77584da974:4040\">Spark UI</a></p>\n",
              "\n",
              "            <dl>\n",
              "              <dt>Version</dt>\n",
              "                <dd><code>v3.3.0</code></dd>\n",
              "              <dt>Master</dt>\n",
              "                <dd><code>local[*]</code></dd>\n",
              "              <dt>AppName</dt>\n",
              "                <dd><code>Our First Spark Example</code></dd>\n",
              "            </dl>\n",
              "        </div>\n",
              "        \n",
              "            </div>\n",
              "        "
            ]
          },
          "metadata": {},
          "execution_count": 1
        }
      ],
      "source": [
        "!sudo apt update\n",
        "!apt-get install openjdk-8-jdk-headless -qq > /dev/null\n",
        "#Check this site for the latest download link https://www.apache.org/dyn/closer.lua/spark/spark-3.2.1/spark-3.2.1-bin-hadoop3.2.tgz\n",
        "!wget -q https://dlcdn.apache.org/spark/spark-3.2.1/spark-3.2.1-bin-hadoop3.2.tgz\n",
        "!tar xf spark-3.2.1-bin-hadoop3.2.tgz\n",
        "!pip install -q findspark\n",
        "!pip install pyspark\n",
        "!pip install py4j\n",
        "\n",
        "import os\n",
        "import sys\n",
        "# os.environ[\"JAVA_HOME\"] = \"/usr/lib/jvm/java-8-openjdk-amd64\"\n",
        "# os.environ[\"SPARK_HOME\"] = \"/content/spark-3.2.1-bin-hadoop3.2\"\n",
        "\n",
        "\n",
        "import findspark\n",
        "findspark.init()\n",
        "findspark.find()\n",
        "\n",
        "import pyspark\n",
        "\n",
        "from pyspark.sql import DataFrame, SparkSession\n",
        "from typing import List\n",
        "# import pyspark.sql.types as T\n",
        "# import pyspark.sql.functions as F\n",
        "\n",
        "spark= SparkSession \\\n",
        "       .builder \\\n",
        "       .appName(\"Our First Spark Example\") \\\n",
        "       .getOrCreate()\n",
        "\n",
        "spark"
      ]
    },
    {
      "cell_type": "code",
      "source": [
        "from pyspark.sql.functions import *\n",
        "from pyspark.sql.functions import date_add\n",
        "from pyspark.sql.types import *\n",
        "from pyspark.sql.window import Window\n",
        "from pyspark.sql.dataframe import DataFrame\n",
        "from typing import List\n",
        "import datetime\n",
        "import time"
      ],
      "metadata": {
        "id": "-6OHX4nkKl4b"
      },
      "execution_count": 13,
      "outputs": []
    },
    {
      "cell_type": "code",
      "source": [
        "spark = SparkSession.builder.getOrCreate()"
      ],
      "metadata": {
        "id": "4MKmvx6WLxgU"
      },
      "execution_count": 3,
      "outputs": []
    },
    {
      "cell_type": "code",
      "source": [
        "def _to_date_time(value):\n",
        " return datetime.datetime.strptime(value, '%Y-%m-%d %H:%M') if(value) else None\n",
        "\n",
        "schema = ['store', 'code_store', 'description','price','validFrom', 'validTo']\n",
        "data = [('target', 1000, 'coffe', 2, _to_date_time('2022-09-10 00:00'), _to_date_time('2022-09-16 00:00')),\n",
        "        ('target', 1000, 'coffe', 3, _to_date_time('2022-09-16 00:00'), _to_date_time('2022-09-25 00:00')),\n",
        "        ('target', 1000, 'coffe', 5, _to_date_time('2022-09-25 00:00'), None)]\n",
        "df_input = spark.createDataFrame(data, schema)"
      ],
      "metadata": {
        "id": "ebgUKkstgPkA"
      },
      "execution_count": 48,
      "outputs": []
    },
    {
      "cell_type": "code",
      "source": [
        "windowSpec = Window.partitionBy(\"store\", \"code_store\", \"description\").orderBy(asc(\"validFrom\"))\n",
        "\n",
        "df_input = (df_input.withColumn(\"lead_validFrom\", lead(\"validFrom\", 1).over(windowSpec))#compare with next row\n",
        "        .withColumn(\"lag_validFrom\", lag(\"validFrom\", 1).over(windowSpec))#compare with previews row \n",
        "      )"
      ],
      "metadata": {
        "id": "vBsIBZIdPZNS"
      },
      "execution_count": 49,
      "outputs": []
    },
    {
      "cell_type": "code",
      "source": [
        "df_input.show()"
      ],
      "metadata": {
        "colab": {
          "base_uri": "https://localhost:8080/"
        },
        "id": "I1CJ6o6zQ4Gz",
        "outputId": "5df31eb6-4b1d-408c-990f-993536a27686"
      },
      "execution_count": 50,
      "outputs": [
        {
          "output_type": "stream",
          "name": "stdout",
          "text": [
            "+------+----------+-----------+-----+-------------------+-------------------+-------------------+-------------------+\n",
            "| store|code_store|description|price|          validFrom|            validTo|     lead_validFrom|      lag_validFrom|\n",
            "+------+----------+-----------+-----+-------------------+-------------------+-------------------+-------------------+\n",
            "|target|      1000|      coffe|    2|2022-09-10 00:00:00|2022-09-16 00:00:00|2022-09-16 00:00:00|               null|\n",
            "|target|      1000|      coffe|    3|2022-09-16 00:00:00|2022-09-25 00:00:00|2022-09-25 00:00:00|2022-09-10 00:00:00|\n",
            "|target|      1000|      coffe|    5|2022-09-25 00:00:00|               null|               null|2022-09-16 00:00:00|\n",
            "+------+----------+-----------+-----+-------------------+-------------------+-------------------+-------------------+\n",
            "\n"
          ]
        }
      ]
    },
    {
      "cell_type": "code",
      "source": [
        "#To roll back one day of validTo we need to compare two dates, validTo == lead_validFrom\n",
        "df_input = (df_input\n",
        "      .withColumn(\"CheckIsEqual_from_to\", col(\"validTo\")==col(\"lead_validFrom\"))\n",
        "      .withColumn(\"validTo\", when(col(\"CheckIsEqual_from_to\") == \"true\", date_add(df_input.validTo,-1).cast(TimestampType())))#here we back one day -1\n",
        "      )\n",
        "#we drop the columns that don't will be used anymore\n",
        "df_output = df_input.drop(*[\"lead_validfrom\", \"lag_validFrom\", \"CheckIsEqual_from_to\"]) "
      ],
      "metadata": {
        "id": "tJQnJ-tHTgMS"
      },
      "execution_count": 53,
      "outputs": []
    },
    {
      "cell_type": "code",
      "source": [
        "df_output.show()"
      ],
      "metadata": {
        "colab": {
          "base_uri": "https://localhost:8080/"
        },
        "id": "0j9cB92NVL4c",
        "outputId": "592e34bb-a1b1-4086-fa56-63fa859df267"
      },
      "execution_count": 54,
      "outputs": [
        {
          "output_type": "stream",
          "name": "stdout",
          "text": [
            "+------+----------+-----------+-----+-------------------+-------------------+\n",
            "| store|code_store|description|price|          validFrom|            validTo|\n",
            "+------+----------+-----------+-----+-------------------+-------------------+\n",
            "|target|      1000|      coffe|    2|2022-09-10 00:00:00|2022-09-15 00:00:00|\n",
            "|target|      1000|      coffe|    3|2022-09-16 00:00:00|2022-09-24 00:00:00|\n",
            "|target|      1000|      coffe|    5|2022-09-25 00:00:00|               null|\n",
            "+------+----------+-----------+-----+-------------------+-------------------+\n",
            "\n"
          ]
        }
      ]
    },
    {
      "cell_type": "code",
      "source": [],
      "metadata": {
        "id": "q0OYVDbNjI9a"
      },
      "execution_count": null,
      "outputs": []
    }
  ]
}